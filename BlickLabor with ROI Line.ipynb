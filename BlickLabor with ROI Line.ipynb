{
 "cells": [
  {
   "cell_type": "code",
   "execution_count": 1,
   "metadata": {},
   "outputs": [
    {
     "name": "stderr",
     "output_type": "stream",
     "text": [
      "C:\\Users\\CastroPC\\Anaconda3\\envs\\ML-2020\\lib\\site-packages\\tensorboard\\compat\\tensorflow_stub\\dtypes.py:541: FutureWarning: Passing (type, 1) or '1type' as a synonym of type is deprecated; in a future version of numpy, it will be understood as (type, (1,)) / '(1,)type'.\n",
      "  _np_qint8 = np.dtype([(\"qint8\", np.int8, 1)])\n",
      "C:\\Users\\CastroPC\\Anaconda3\\envs\\ML-2020\\lib\\site-packages\\tensorboard\\compat\\tensorflow_stub\\dtypes.py:542: FutureWarning: Passing (type, 1) or '1type' as a synonym of type is deprecated; in a future version of numpy, it will be understood as (type, (1,)) / '(1,)type'.\n",
      "  _np_quint8 = np.dtype([(\"quint8\", np.uint8, 1)])\n",
      "C:\\Users\\CastroPC\\Anaconda3\\envs\\ML-2020\\lib\\site-packages\\tensorboard\\compat\\tensorflow_stub\\dtypes.py:543: FutureWarning: Passing (type, 1) or '1type' as a synonym of type is deprecated; in a future version of numpy, it will be understood as (type, (1,)) / '(1,)type'.\n",
      "  _np_qint16 = np.dtype([(\"qint16\", np.int16, 1)])\n",
      "C:\\Users\\CastroPC\\Anaconda3\\envs\\ML-2020\\lib\\site-packages\\tensorboard\\compat\\tensorflow_stub\\dtypes.py:544: FutureWarning: Passing (type, 1) or '1type' as a synonym of type is deprecated; in a future version of numpy, it will be understood as (type, (1,)) / '(1,)type'.\n",
      "  _np_quint16 = np.dtype([(\"quint16\", np.uint16, 1)])\n",
      "C:\\Users\\CastroPC\\Anaconda3\\envs\\ML-2020\\lib\\site-packages\\tensorboard\\compat\\tensorflow_stub\\dtypes.py:545: FutureWarning: Passing (type, 1) or '1type' as a synonym of type is deprecated; in a future version of numpy, it will be understood as (type, (1,)) / '(1,)type'.\n",
      "  _np_qint32 = np.dtype([(\"qint32\", np.int32, 1)])\n",
      "C:\\Users\\CastroPC\\Anaconda3\\envs\\ML-2020\\lib\\site-packages\\tensorboard\\compat\\tensorflow_stub\\dtypes.py:550: FutureWarning: Passing (type, 1) or '1type' as a synonym of type is deprecated; in a future version of numpy, it will be understood as (type, (1,)) / '(1,)type'.\n",
      "  np_resource = np.dtype([(\"resource\", np.ubyte, 1)])\n"
     ]
    }
   ],
   "source": [
    "import cv2\n",
    "import numpy as np\n",
    "import os\n",
    "import tensorflow as tf\n",
    "from scipy.spatial import distance as dist\n",
    "import centroidtracker\n",
    "from collections import OrderedDict"
   ]
  },
  {
   "cell_type": "code",
   "execution_count": 2,
   "metadata": {},
   "outputs": [
    {
     "name": "stdout",
     "output_type": "stream",
     "text": [
      "INFO:tensorflow:Saver not created because there are no variables in the graph to restore\n"
     ]
    }
   ],
   "source": [
    "model = tf.saved_model.load(\"Faster_Blick4\")\n",
    "model = model.signatures['serving_default']"
   ]
  },
  {
   "cell_type": "code",
   "execution_count": 5,
   "metadata": {},
   "outputs": [],
   "source": [
    "cwd = os.getcwd()\n",
    "# img_path = cwd + \"\\\\sample_input_image.jpg\"\n",
    "vid_path = cwd + \"\\\\Blick2_try.mp4\"\n",
    "# sample_img = cv2.imread(img_path)\n",
    "classes = [\"None\", 'Kinder Country', 'Knoppers', 'PickUp Blue', 'PickUp Blue', 'StudentFutter', 'Twix']"
   ]
  },
  {
   "cell_type": "code",
   "execution_count": 6,
   "metadata": {},
   "outputs": [],
   "source": [
    "def draw_bounding_boxes(model, image, clas):\n",
    "    boxes = []\n",
    "    imagenp = image\n",
    "    width = imagenp.shape[1]\n",
    "    height = imagenp.shape[0]\n",
    "    imagenp = np.expand_dims(imagenp, axis=0)\n",
    "    imagenp = tf.convert_to_tensor(imagenp)\n",
    "    pred = model(imagenp)\n",
    "\n",
    "    for x in range(pred['detection_boxes'][0].shape[0]):\n",
    "        det_score = pred['detection_scores'][0][x].numpy()\n",
    "        if det_score >= 0.90:\n",
    "            cl = int(pred['detection_classes'][0][x].numpy())\n",
    "            ymin,xmin,ymax,xmax=pred['detection_boxes'][0][x].numpy()\n",
    "\n",
    "            left, right, top, bottom = (int(round((xmin * width))), int(round((xmax * width))),\n",
    "                                          int(round((ymin * height))), int(round((ymax * height))))\n",
    "            boxes.append(np.array([left, bottom, right, top]))\n",
    "            cv2.rectangle(image, (left, top), (right, bottom), (0, 255, 0), 3)\n",
    "            cv2.putText(image, \"{}\".format(clas[cl]), (left -10, top-10), cv2.FONT_HERSHEY_SIMPLEX, 0.5, (255, 255, 255), 2)\n",
    "            \n",
    "    return image, boxes\n",
    "\n"
   ]
  },
  {
   "cell_type": "code",
   "execution_count": 7,
   "metadata": {
    "scrolled": true
   },
   "outputs": [
    {
     "name": "stdout",
     "output_type": "stream",
     "text": [
      "OrderedDict([(0, True), (1, True), (2, True)])\n"
     ]
    }
   ],
   "source": [
    "ct = centroidtracker.CentroidTracker(maxDisappeared=10)\n",
    "cv = cv2.VideoCapture(vid_path)\n",
    "framecount = 0\n",
    "counter = 0\n",
    "W = int(cv.get(3))\n",
    "H = int(cv.get(4))\n",
    "in_roi = OrderedDict()\n",
    "\n",
    "while cv.isOpened():\n",
    "    ret, frame = cv.read()\n",
    "    framecount += 1\n",
    "    if ret: #and framecount >= 180:\n",
    "        img, box = draw_bounding_boxes(model, frame, classes)\n",
    "        lin = cv2.line(img, (150, 0), (150, 640), (0, 255, 0), 2)          \n",
    "        cent = ct.update(box)\n",
    "        \n",
    "        for objID, cntrd in cent.items():\n",
    "            text = \"ID {}\".format(objID)\n",
    "            cv2.putText(img, text, (cntrd[0] - 10, cntrd[1] - 10),\n",
    "                            cv2.FONT_HERSHEY_SIMPLEX, 0.5, (0, 255, 0), 2)\n",
    "            cv2.circle(img, (cntrd[0], cntrd[1]), 4, (0, 255, 0), -1)\n",
    "            if cntrd[0] <= 150:\n",
    "                if int(objID) not in in_roi:\n",
    "                    in_roi[objID] = True\n",
    "                    counter += 1\n",
    "        cnt = cv2.putText(img, \"COUNTER: {}\".format(counter), (10, 20), cv2.FONT_HERSHEY_SIMPLEX, 0.5, (0, 255, 0), 2)\n",
    "        cv2.imshow(\"Detecting\", img)\n",
    "        if cv2.waitKey(20) == ord('q'):\n",
    "            break\n",
    "    else:\n",
    "        break\n",
    "print(in_roi)\n",
    "cv.release()\n",
    "cv2. destroyAllWindows() \n"
   ]
  },
  {
   "cell_type": "code",
   "execution_count": null,
   "metadata": {},
   "outputs": [],
   "source": [
    "img, box = draw_bounding_boxes(model, sample_img, classes)\n",
    "cent = ct.update(box)\n",
    "if len(cent) != 0:\n",
    "    for objID, cntrd in cent.items():\n",
    "        print(cntrd)\n",
    "        text = \"ID {}\".format(objID)\n",
    "        cv2.putText(img, text, (cntrd[0] - 10, cntrd[1] - 10),\n",
    "                        cv2.FONT_HERSHEY_SIMPLEX, 0.5, (0, 255, 0), 2)\n",
    "        cv2.circle(img, (cntrd[0], cntrd[1]), 4, (0, 255, 0), -1)\n",
    "cv2.imshow(\"Detecting\", img)\n",
    "x = cv2.waitKey(0)\n"
   ]
  },
  {
   "cell_type": "code",
   "execution_count": null,
   "metadata": {},
   "outputs": [],
   "source": [
    "print(in_roi[2] not in in_roi)"
   ]
  }
 ],
 "metadata": {
  "kernelspec": {
   "display_name": "Python 3",
   "language": "python",
   "name": "python3"
  },
  "language_info": {
   "codemirror_mode": {
    "name": "ipython",
    "version": 3
   },
   "file_extension": ".py",
   "mimetype": "text/x-python",
   "name": "python",
   "nbconvert_exporter": "python",
   "pygments_lexer": "ipython3",
   "version": "3.7.5"
  }
 },
 "nbformat": 4,
 "nbformat_minor": 2
}
