{
 "cells": [
  {
   "cell_type": "code",
   "execution_count": null,
   "metadata": {},
   "outputs": [],
   "source": [
    "import tensorflow as tf\n",
    "import cv2\n",
    "import numpy as np\n",
    "import os\n",
    "from PIL import Image, ImageDraw, ImageFont\n",
    "import matplotlib.pyplot as plt"
   ]
  },
  {
   "cell_type": "code",
   "execution_count": null,
   "metadata": {},
   "outputs": [],
   "source": [
    "model = tf.saved_model.load(\"ssd_mobilenet_v1_coco_2018_01_28\")\n",
    "model = model.signatures['serving_default']"
   ]
  },
  {
   "cell_type": "code",
   "execution_count": null,
   "metadata": {},
   "outputs": [],
   "source": [
    "cwd = os.getcwd()\n",
    "img_path = cwd+ \"\\\\sample_input_image.jpg\"\n",
    "vid = cwd + \"\\\\pedestrian_survaillance.mp4\""
   ]
  },
  {
   "cell_type": "code",
   "execution_count": null,
   "metadata": {},
   "outputs": [],
   "source": [
    "def draw_bounding_boxes(model, image):\n",
    "    imagenp = np.expand_dims(image, axis=0)\n",
    "    imagenp = tf.convert_to_tensor(imagenp)\n",
    "    p = model(imagenp)\n",
    "\n",
    "    height = image.shape[0]\n",
    "    width =  image.shape[1]\n",
    "    font = cv2.FONT_HERSHEY_SIMPLEX \n",
    "    fontScale = 0.5\n",
    "    for x in range(p['detection_boxes'][0].shape[0]):\n",
    "        if int(sum(p['detection_boxes'][0][x].numpy())):\n",
    "            ymin,xmin,ymax,xmax=p['detection_boxes'][0][x].numpy()\n",
    "\n",
    "            (left, right, top, bottom) = (int(round((xmin * width))), int(round((xmax * width))), \n",
    "                                        int(round((ymin * height))), int(round((ymax * height))))\n",
    "\n",
    "            res = cv2.rectangle(image, (left, top), (right, bottom), (0, 255, 0), 4) \n",
    "            res = cv2.putText(image, str(p['detection_scores'][0][x].numpy()), \n",
    "                       (left, top), font, fontScale, (255, 255, 255), 2, cv2.LINE_AA)\n",
    "        \n",
    "    return res"
   ]
  },
  {
   "cell_type": "code",
   "execution_count": null,
   "metadata": {},
   "outputs": [],
   "source": [
    "# cv = cv2.VideoCapture(cwd+vid)\n",
    "cv = cv2.VideoCapture(0)\n",
    "while cv.isOpened():\n",
    "    ret, frame = cv.read()\n",
    "    if ret:\n",
    "        f = draw_bounding_boxes(model, frame)\n",
    "        cv2.imshow(\"Reading\", f)\n",
    "        if cv2.waitKey(1) == ord('q'):\n",
    "            break\n",
    "    else:\n",
    "        break\n",
    "cv.release()\n",
    "cv2. destroyAllWindows() "
   ]
  },
  {
   "cell_type": "code",
   "execution_count": null,
   "metadata": {},
   "outputs": [],
   "source": [
    "imag = cv2.imread(img_path)\n",
    "f = draw_bounding_boxes(model, imag)\n",
    "plt.imshow(f)\n",
    "plt.show()"
   ]
  },
  {
   "cell_type": "code",
   "execution_count": null,
   "metadata": {},
   "outputs": [],
   "source": []
  },
  {
   "cell_type": "code",
   "execution_count": null,
   "metadata": {},
   "outputs": [],
   "source": []
  }
 ],
 "metadata": {
  "kernelspec": {
   "display_name": "Python 3",
   "language": "python",
   "name": "python3"
  },
  "language_info": {
   "codemirror_mode": {
    "name": "ipython",
    "version": 3
   },
   "file_extension": ".py",
   "mimetype": "text/x-python",
   "name": "python",
   "nbconvert_exporter": "python",
   "pygments_lexer": "ipython3",
   "version": "3.7.4"
  }
 },
 "nbformat": 4,
 "nbformat_minor": 2
}
