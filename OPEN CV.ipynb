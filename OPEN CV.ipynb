{
 "cells": [
  {
   "cell_type": "code",
   "execution_count": 1,
   "metadata": {},
   "outputs": [],
   "source": [
    "import cv2\n",
    "import numpy as np\n",
    "import os\n",
    "import tensorflow as tf"
   ]
  },
  {
   "cell_type": "code",
   "execution_count": 26,
   "metadata": {},
   "outputs": [],
   "source": [
    "cwd = os.getcwd()\n",
    "img_path = cwd + \"\\\\sample_input_image.jpg\"\n",
    "img_path2 = cwd + \"\\\\aww.jpg\"\n",
    "vid_path = cwd + \"\\\\pedestrian_survaillance.mp4\"\n",
    "vid_path2 = cwd + \"\\\\Blick.mp4\"\n",
    "classes = [\"None\", 'Kinder Country', 'Knoppers', 'PickUp Blue', 'PickUp Brown', 'StudentFutter', 'Twix']\n",
    "img = cv2.imread(img_path)\n",
    "img2 = cv2.imread(img_path2)"
   ]
  },
  {
   "cell_type": "code",
   "execution_count": 3,
   "metadata": {},
   "outputs": [
    {
     "name": "stdout",
     "output_type": "stream",
     "text": [
      "INFO:tensorflow:Saver not created because there are no variables in the graph to restore\n"
     ]
    }
   ],
   "source": [
    "model = tf.saved_model.load(\"Faster_Blick4\")\n",
    "model = model.signatures['serving_default']"
   ]
  },
  {
   "cell_type": "code",
   "execution_count": 19,
   "metadata": {},
   "outputs": [],
   "source": [
    "\n",
    "\n",
    "def draw_bounding_boxes(model, image, clas):\n",
    "\n",
    "    imagenp = image\n",
    "    width = imagenp.shape[1]\n",
    "    height = imagenp.shape[0]\n",
    "    imagenp = np.expand_dims(imagenp, axis=0)\n",
    "    imagenp = tf.convert_to_tensor(imagenp)\n",
    "    pred = model(imagenp)\n",
    "    \n",
    "#     print(pred)\n",
    "#     cv2.line(image, (300, 0), (300, height), color=(0, 255, 0), thickness=3)\n",
    "    for x in range(pred['detection_boxes'][0].shape[0]):\n",
    "        det_score = pred['detection_scores'][0][x].numpy()\n",
    "        \n",
    "        if det_score <= 0.0:\n",
    "            g = image\n",
    "            continue\n",
    "        elif det_score >= 0.85:\n",
    "#             print(pred['detection_classes'][0][x].numpy())\n",
    "#             print(pred['detection_scores'][0][x])\n",
    "            ymin,xmin,ymax,xmax=pred['detection_boxes'][0][x].numpy()\n",
    "\n",
    "            (left, right, top, bottom) = (xmin * width, xmax * width, ymin * height, ymax * height)\n",
    "            left = int(left)\n",
    "            right = int(right)\n",
    "            top = int(top)\n",
    "            bottom = int(bottom)\n",
    "            crop = image[top:bottom, left:right]\n",
    "\n",
    "    #         gray_image = cv2.cvtColor(crop, cv2.COLOR_BGR2GRAY)\n",
    "\n",
    "    #         # convert the grayscale image to binary image\n",
    "    #         _,thresh = cv2.threshold(gray_image,127,255,0)\n",
    "\n",
    "    #         # calculate moments of binary image\n",
    "    #         M = cv2.moments(thresh)\n",
    "#             cl = label(int(pred['detection_classes'][0][x].numpy()))\n",
    "            cl = int(pred['detection_classes'][0][x].numpy())\n",
    "            print(cl)\n",
    "            print(clas[cl])\n",
    "#             print(int(pred['detection_classes'][0][x].numpy()))\n",
    "\n",
    "\n",
    "    #         # calculate x,y coordinate of center\n",
    "    #         cX = int(M[\"m10\"] / M[\"m00\"])\n",
    "    #         cY = int(M[\"m01\"] / M[\"m00\"])\n",
    "\n",
    "    # #         if cX == 300:\n",
    "    # #             print(\"aw\")\n",
    "    #         # put text and highlight the center\n",
    "            cx = int(round((right - left)/2)) + left\n",
    "            cy = int(round((bottom - top)/2)) + top\n",
    "    #         print(cx)#, cy)\n",
    "    #         if framecount % 15 == 0:\n",
    "    #             frames.insert(0, (cx, cy))\n",
    "    #             print(frames)\n",
    "    #             print(frames[0][0], frames[0][1])\n",
    "    #             if len(frames) >= 3:\n",
    "    #                 frames.pop(-1)\n",
    "    # #                 print(frames)\n",
    "    #             cv2.line(image, (frames[0][0], frames[0][1]), (cx, cy), color=(0, 255, 0), thickness=3)\n",
    "    #         if cx == 300:\n",
    "    #             counter = 1\n",
    "    #             cv2.line(image, (300, 0), (300, height), color=(0, 0, 255), thickness=3)\n",
    "    #         cv2.circle(image, (cx, cy), 5, (0, 255, 0), -1)\n",
    "    #         cv2.putText(image, \"{}, {}, ID: {}\".format(str(cx), str(cy), x), (cx - 25, cy - 25),cv2.FONT_HERSHEY_SIMPLEX, 0.5, (255, 255, 255), 2)\n",
    "    #         cv2.circle(image, (left, top), 5, (0, 255, 0), -1)\n",
    "    #         cv2.circle(image, (right, bottom), 5, (0, 255, 0), -1)\n",
    "    #         cv2.putText(img, \"{}, {}\".format(left, top), (left - 25, top - 25),cv2.FONT_HERSHEY_SIMPLEX, 0.5, (255, 255, 255), 2)\n",
    "    #         cv2.putText(img, \"{}, {}\".format(right, bottom), (right - 25, bottom - 25),cv2.FONT_HERSHEY_SIMPLEX, 0.5, (255, 255, 255), 2)\n",
    "    #         cv2.putText(img, \"centroid\", (cX + (right - left) - 25, cY  + (bottom - top) - 25),cv2.FONT_HERSHEY_SIMPLEX, 0.5, (255, 255, 255), 2)\n",
    "            cv2.putText(image, \"{}, {}%\".format(clas[cl], int(round(float(det_score), 2)*100)), \n",
    "                        (cx - 50 , cy), cv2.FONT_HERSHEY_SIMPLEX, 0.5, (0, 0, 255), 2)\n",
    "            g = cv2.rectangle(image, (left, top), (right, bottom), color=(0, 255, 0), thickness=1)\n",
    "            \n",
    "#         break\n",
    "    return g, crop\n",
    "\n"
   ]
  },
  {
   "cell_type": "code",
   "execution_count": 25,
   "metadata": {},
   "outputs": [
    {
     "name": "stdout",
     "output_type": "stream",
     "text": [
      "640 352\n",
      "2\n",
      "Knoppers\n",
      "2\n",
      "Knoppers\n",
      "2\n",
      "Knoppers\n",
      "2\n",
      "Knoppers\n",
      "2\n",
      "Knoppers\n",
      "2\n",
      "Knoppers\n",
      "1\n",
      "Kinder Country\n",
      "2\n",
      "Knoppers\n",
      "1\n",
      "Kinder Country\n",
      "Final Count:  186\n"
     ]
    }
   ],
   "source": [
    "cv = cv2.VideoCapture(vid_path2)\n",
    "count = 0\n",
    "cs = []\n",
    "framecount = 0\n",
    "W = int(cv.get(3))\n",
    "H = int(cv.get(4))\n",
    "print(W, H)\n",
    "fourcc = cv2.VideoWriter_fourcc(*\"XVID\")\n",
    "writer = cv2.VideoWriter(\"output.avi\", fourcc, 30, (W, H), True)\n",
    "\n",
    "while cv.isOpened():\n",
    "    ret, frame = cv.read()\n",
    "    framecount += 1\n",
    "#     print(framecount)\n",
    "    if ret and (framecount >= 180):\n",
    "        f, crop = draw_bounding_boxes(model, frame, classes)\n",
    "#         count = count + counter\n",
    "        writer.write(f)\n",
    "        cv2.imshow(\"Reading\", f)\n",
    "        \n",
    "\n",
    "        if cv2.waitKey(1) == ord('q'):\n",
    "            break\n",
    "    elif ret and (framecount < 180):\n",
    "        writer.write(frame)\n",
    "        cv2.imshow(\"Reading\", frame)\n",
    "        if cv2.waitKey(1) == ord('q'):\n",
    "            break\n",
    "#         if cv2.waitKey(30) == ord('q'):\n",
    "#             break\n",
    "#         continue\n",
    "    else:\n",
    "        break\n",
    "print(\"Final Count: \", framecount)\n",
    "cv.release()\n",
    "writer.release()\n",
    "cv2. destroyAllWindows() "
   ]
  },
  {
   "cell_type": "code",
   "execution_count": 28,
   "metadata": {},
   "outputs": [
    {
     "name": "stdout",
     "output_type": "stream",
     "text": [
      "2\n",
      "Knoppers\n"
     ]
    }
   ],
   "source": [
    "f, crop= draw_bounding_boxes(model, img2, classes)\n",
    "\n",
    "# for x in range(len(crop_img) + 1):\n",
    "try:\n",
    "    cv2.imshow(\"x\", f)\n",
    "    cv2.waitKey(10000)\n",
    "except:\n",
    "    pass"
   ]
  },
  {
   "cell_type": "code",
   "execution_count": null,
   "metadata": {},
   "outputs": [],
   "source": []
  }
 ],
 "metadata": {
  "kernelspec": {
   "display_name": "Python 3",
   "language": "python",
   "name": "python3"
  },
  "language_info": {
   "codemirror_mode": {
    "name": "ipython",
    "version": 3
   },
   "file_extension": ".py",
   "mimetype": "text/x-python",
   "name": "python",
   "nbconvert_exporter": "python",
   "pygments_lexer": "ipython3",
   "version": "3.7.4"
  }
 },
 "nbformat": 4,
 "nbformat_minor": 2
}
